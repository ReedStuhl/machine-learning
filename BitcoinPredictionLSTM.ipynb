{
 "cells": [
  {
   "cell_type": "code",
   "execution_count": 461,
   "metadata": {
    "id": "MfFwYHsB4Him"
   },
   "outputs": [],
   "source": [
    "# Written by Ebuka Modified by Justin Scott and Reed Stuhlreyer \n",
    "import numpy as np # We need to import the Numpy library as it's optimized to numerical operations\n",
    "import pandas as pd # The pandas dataframe is a python data structure that helps construct rows and columns for data sets\n",
    "import matplotlib.pyplot as plt # This library is responsible for creating the necessary plots and graphs\n",
    "import tensorflow # This is a python framework with which different models can be easily implemented"
   ]
  },
  {
   "cell_type": "code",
   "execution_count": 462,
   "metadata": {
    "id": "Hr0NvFeZ9w-S"
   },
   "outputs": [],
   "source": [
    "data = pd.read_csv('coin_Bitcoin.csv') # Here we are simply using pandas to import the csv file containing the BTC data"
   ]
  },
  {
   "cell_type": "code",
   "execution_count": 463,
   "metadata": {
    "colab": {
     "base_uri": "https://localhost:8080/",
     "height": 206
    },
    "id": "dn8uTGjarAQH",
    "outputId": "8191c3f3-4f99-4696-8b7a-bde68f252517",
    "scrolled": true
   },
   "outputs": [
    {
     "data": {
      "text/html": [
       "<div>\n",
       "<style scoped>\n",
       "    .dataframe tbody tr th:only-of-type {\n",
       "        vertical-align: middle;\n",
       "    }\n",
       "\n",
       "    .dataframe tbody tr th {\n",
       "        vertical-align: top;\n",
       "    }\n",
       "\n",
       "    .dataframe thead th {\n",
       "        text-align: right;\n",
       "    }\n",
       "</style>\n",
       "<table border=\"1\" class=\"dataframe\">\n",
       "  <thead>\n",
       "    <tr style=\"text-align: right;\">\n",
       "      <th></th>\n",
       "      <th>SNo</th>\n",
       "      <th>Name</th>\n",
       "      <th>Symbol</th>\n",
       "      <th>Date</th>\n",
       "      <th>High</th>\n",
       "      <th>Low</th>\n",
       "      <th>Open</th>\n",
       "      <th>Close</th>\n",
       "      <th>Volume</th>\n",
       "      <th>Marketcap</th>\n",
       "    </tr>\n",
       "  </thead>\n",
       "  <tbody>\n",
       "    <tr>\n",
       "      <th>0</th>\n",
       "      <td>1</td>\n",
       "      <td>Bitcoin</td>\n",
       "      <td>BTC</td>\n",
       "      <td>2013-04-29 23:59:59</td>\n",
       "      <td>147.488007</td>\n",
       "      <td>134.000000</td>\n",
       "      <td>134.444000</td>\n",
       "      <td>144.539993</td>\n",
       "      <td>0.0</td>\n",
       "      <td>1.603769e+09</td>\n",
       "    </tr>\n",
       "    <tr>\n",
       "      <th>1</th>\n",
       "      <td>2</td>\n",
       "      <td>Bitcoin</td>\n",
       "      <td>BTC</td>\n",
       "      <td>2013-04-30 23:59:59</td>\n",
       "      <td>146.929993</td>\n",
       "      <td>134.050003</td>\n",
       "      <td>144.000000</td>\n",
       "      <td>139.000000</td>\n",
       "      <td>0.0</td>\n",
       "      <td>1.542813e+09</td>\n",
       "    </tr>\n",
       "    <tr>\n",
       "      <th>2</th>\n",
       "      <td>3</td>\n",
       "      <td>Bitcoin</td>\n",
       "      <td>BTC</td>\n",
       "      <td>2013-05-01 23:59:59</td>\n",
       "      <td>139.889999</td>\n",
       "      <td>107.720001</td>\n",
       "      <td>139.000000</td>\n",
       "      <td>116.989998</td>\n",
       "      <td>0.0</td>\n",
       "      <td>1.298955e+09</td>\n",
       "    </tr>\n",
       "    <tr>\n",
       "      <th>3</th>\n",
       "      <td>4</td>\n",
       "      <td>Bitcoin</td>\n",
       "      <td>BTC</td>\n",
       "      <td>2013-05-02 23:59:59</td>\n",
       "      <td>125.599998</td>\n",
       "      <td>92.281898</td>\n",
       "      <td>116.379997</td>\n",
       "      <td>105.209999</td>\n",
       "      <td>0.0</td>\n",
       "      <td>1.168517e+09</td>\n",
       "    </tr>\n",
       "    <tr>\n",
       "      <th>4</th>\n",
       "      <td>5</td>\n",
       "      <td>Bitcoin</td>\n",
       "      <td>BTC</td>\n",
       "      <td>2013-05-03 23:59:59</td>\n",
       "      <td>108.127998</td>\n",
       "      <td>79.099998</td>\n",
       "      <td>106.250000</td>\n",
       "      <td>97.750000</td>\n",
       "      <td>0.0</td>\n",
       "      <td>1.085995e+09</td>\n",
       "    </tr>\n",
       "  </tbody>\n",
       "</table>\n",
       "</div>"
      ],
      "text/plain": [
       "   SNo     Name Symbol                 Date        High         Low  \\\n",
       "0    1  Bitcoin    BTC  2013-04-29 23:59:59  147.488007  134.000000   \n",
       "1    2  Bitcoin    BTC  2013-04-30 23:59:59  146.929993  134.050003   \n",
       "2    3  Bitcoin    BTC  2013-05-01 23:59:59  139.889999  107.720001   \n",
       "3    4  Bitcoin    BTC  2013-05-02 23:59:59  125.599998   92.281898   \n",
       "4    5  Bitcoin    BTC  2013-05-03 23:59:59  108.127998   79.099998   \n",
       "\n",
       "         Open       Close  Volume     Marketcap  \n",
       "0  134.444000  144.539993     0.0  1.603769e+09  \n",
       "1  144.000000  139.000000     0.0  1.542813e+09  \n",
       "2  139.000000  116.989998     0.0  1.298955e+09  \n",
       "3  116.379997  105.209999     0.0  1.168517e+09  \n",
       "4  106.250000   97.750000     0.0  1.085995e+09  "
      ]
     },
     "execution_count": 463,
     "metadata": {},
     "output_type": "execute_result"
    }
   ],
   "source": [
    "data.head() # Taking a quick look at the first 5 rows of the data"
   ]
  },
  {
   "cell_type": "code",
   "execution_count": 464,
   "metadata": {
    "colab": {
     "base_uri": "https://localhost:8080/",
     "height": 238
    },
    "id": "94b__aWErCsU",
    "outputId": "14ace039-5cf7-480c-84fe-2e53aa332389"
   },
   "outputs": [
    {
     "data": {
      "text/html": [
       "<div>\n",
       "<style scoped>\n",
       "    .dataframe tbody tr th:only-of-type {\n",
       "        vertical-align: middle;\n",
       "    }\n",
       "\n",
       "    .dataframe tbody tr th {\n",
       "        vertical-align: top;\n",
       "    }\n",
       "\n",
       "    .dataframe thead th {\n",
       "        text-align: right;\n",
       "    }\n",
       "</style>\n",
       "<table border=\"1\" class=\"dataframe\">\n",
       "  <thead>\n",
       "    <tr style=\"text-align: right;\">\n",
       "      <th></th>\n",
       "      <th>High</th>\n",
       "      <th>Low</th>\n",
       "      <th>Open</th>\n",
       "      <th>Close</th>\n",
       "    </tr>\n",
       "    <tr>\n",
       "      <th>Date</th>\n",
       "      <th></th>\n",
       "      <th></th>\n",
       "      <th></th>\n",
       "      <th></th>\n",
       "    </tr>\n",
       "  </thead>\n",
       "  <tbody>\n",
       "    <tr>\n",
       "      <th>2013-04-29 23:59:59</th>\n",
       "      <td>147.488007</td>\n",
       "      <td>134.000000</td>\n",
       "      <td>134.444000</td>\n",
       "      <td>144.539993</td>\n",
       "    </tr>\n",
       "    <tr>\n",
       "      <th>2013-04-30 23:59:59</th>\n",
       "      <td>146.929993</td>\n",
       "      <td>134.050003</td>\n",
       "      <td>144.000000</td>\n",
       "      <td>139.000000</td>\n",
       "    </tr>\n",
       "    <tr>\n",
       "      <th>2013-05-01 23:59:59</th>\n",
       "      <td>139.889999</td>\n",
       "      <td>107.720001</td>\n",
       "      <td>139.000000</td>\n",
       "      <td>116.989998</td>\n",
       "    </tr>\n",
       "    <tr>\n",
       "      <th>2013-05-02 23:59:59</th>\n",
       "      <td>125.599998</td>\n",
       "      <td>92.281898</td>\n",
       "      <td>116.379997</td>\n",
       "      <td>105.209999</td>\n",
       "    </tr>\n",
       "    <tr>\n",
       "      <th>2013-05-03 23:59:59</th>\n",
       "      <td>108.127998</td>\n",
       "      <td>79.099998</td>\n",
       "      <td>106.250000</td>\n",
       "      <td>97.750000</td>\n",
       "    </tr>\n",
       "  </tbody>\n",
       "</table>\n",
       "</div>"
      ],
      "text/plain": [
       "                           High         Low        Open       Close\n",
       "Date                                                               \n",
       "2013-04-29 23:59:59  147.488007  134.000000  134.444000  144.539993\n",
       "2013-04-30 23:59:59  146.929993  134.050003  144.000000  139.000000\n",
       "2013-05-01 23:59:59  139.889999  107.720001  139.000000  116.989998\n",
       "2013-05-02 23:59:59  125.599998   92.281898  116.379997  105.209999\n",
       "2013-05-03 23:59:59  108.127998   79.099998  106.250000   97.750000"
      ]
     },
     "execution_count": 464,
     "metadata": {},
     "output_type": "execute_result"
    }
   ],
   "source": [
    "# Here we specify the columns we need and set the date as index\n",
    "required_data = data[['Date','High','Low','Open','Close']]\n",
    "required_data.set_index(\"Date\",drop=True,inplace=True)\n",
    "required_data.head()"
   ]
  },
  {
   "cell_type": "code",
   "execution_count": 465,
   "metadata": {},
   "outputs": [
    {
     "data": {
      "text/plain": [
       "Date\n",
       "2013-04-29 23:59:59         NaN\n",
       "2013-04-30 23:59:59   -0.038328\n",
       "2013-05-01 23:59:59   -0.158345\n",
       "2013-05-02 23:59:59   -0.100692\n",
       "2013-05-03 23:59:59   -0.070906\n",
       "Name: Close, dtype: float64"
      ]
     },
     "execution_count": 465,
     "metadata": {},
     "output_type": "execute_result"
    }
   ],
   "source": [
    "required_data.Close.pct_change().head()"
   ]
  },
  {
   "cell_type": "code",
   "execution_count": 466,
   "metadata": {
    "colab": {
     "base_uri": "https://localhost:8080/",
     "height": 458
    },
    "id": "8EBgLm-ZrAap",
    "outputId": "f9898ec2-3676-428f-8062-8ef76514ea73"
   },
   "outputs": [
    {
     "name": "stderr",
     "output_type": "stream",
     "text": [
      "C:\\Users\\Jstma\\Anaconda3\\lib\\site-packages\\ipykernel_launcher.py:2: SettingWithCopyWarning: \n",
      "A value is trying to be set on a copy of a slice from a DataFrame.\n",
      "Try using .loc[row_indexer,col_indexer] = value instead\n",
      "\n",
      "See the caveats in the documentation: https://pandas.pydata.org/pandas-docs/stable/user_guide/indexing.html#returning-a-view-versus-a-copy\n",
      "  \n",
      "C:\\Users\\Jstma\\Anaconda3\\lib\\site-packages\\ipykernel_launcher.py:3: SettingWithCopyWarning: \n",
      "A value is trying to be set on a copy of a slice from a DataFrame.\n",
      "Try using .loc[row_indexer,col_indexer] = value instead\n",
      "\n",
      "See the caveats in the documentation: https://pandas.pydata.org/pandas-docs/stable/user_guide/indexing.html#returning-a-view-versus-a-copy\n",
      "  This is separate from the ipykernel package so we can avoid doing imports until\n"
     ]
    },
    {
     "data": {
      "text/html": [
       "<div>\n",
       "<style scoped>\n",
       "    .dataframe tbody tr th:only-of-type {\n",
       "        vertical-align: middle;\n",
       "    }\n",
       "\n",
       "    .dataframe tbody tr th {\n",
       "        vertical-align: top;\n",
       "    }\n",
       "\n",
       "    .dataframe thead th {\n",
       "        text-align: right;\n",
       "    }\n",
       "</style>\n",
       "<table border=\"1\" class=\"dataframe\">\n",
       "  <thead>\n",
       "    <tr style=\"text-align: right;\">\n",
       "      <th></th>\n",
       "      <th>High</th>\n",
       "      <th>Low</th>\n",
       "      <th>Open</th>\n",
       "      <th>Close</th>\n",
       "      <th>% Returns</th>\n",
       "      <th>Log returns</th>\n",
       "    </tr>\n",
       "    <tr>\n",
       "      <th>Date</th>\n",
       "      <th></th>\n",
       "      <th></th>\n",
       "      <th></th>\n",
       "      <th></th>\n",
       "      <th></th>\n",
       "      <th></th>\n",
       "    </tr>\n",
       "  </thead>\n",
       "  <tbody>\n",
       "    <tr>\n",
       "      <th>2013-04-29 23:59:59</th>\n",
       "      <td>147.488007</td>\n",
       "      <td>134.000000</td>\n",
       "      <td>134.444000</td>\n",
       "      <td>144.539993</td>\n",
       "      <td>NaN</td>\n",
       "      <td>NaN</td>\n",
       "    </tr>\n",
       "    <tr>\n",
       "      <th>2013-04-30 23:59:59</th>\n",
       "      <td>146.929993</td>\n",
       "      <td>134.050003</td>\n",
       "      <td>144.000000</td>\n",
       "      <td>139.000000</td>\n",
       "      <td>-0.038328</td>\n",
       "      <td>-0.039082</td>\n",
       "    </tr>\n",
       "    <tr>\n",
       "      <th>2013-05-01 23:59:59</th>\n",
       "      <td>139.889999</td>\n",
       "      <td>107.720001</td>\n",
       "      <td>139.000000</td>\n",
       "      <td>116.989998</td>\n",
       "      <td>-0.158345</td>\n",
       "      <td>-0.172385</td>\n",
       "    </tr>\n",
       "    <tr>\n",
       "      <th>2013-05-02 23:59:59</th>\n",
       "      <td>125.599998</td>\n",
       "      <td>92.281898</td>\n",
       "      <td>116.379997</td>\n",
       "      <td>105.209999</td>\n",
       "      <td>-0.100692</td>\n",
       "      <td>-0.106130</td>\n",
       "    </tr>\n",
       "    <tr>\n",
       "      <th>2013-05-03 23:59:59</th>\n",
       "      <td>108.127998</td>\n",
       "      <td>79.099998</td>\n",
       "      <td>106.250000</td>\n",
       "      <td>97.750000</td>\n",
       "      <td>-0.070906</td>\n",
       "      <td>-0.073545</td>\n",
       "    </tr>\n",
       "  </tbody>\n",
       "</table>\n",
       "</div>"
      ],
      "text/plain": [
       "                           High         Low        Open       Close  \\\n",
       "Date                                                                  \n",
       "2013-04-29 23:59:59  147.488007  134.000000  134.444000  144.539993   \n",
       "2013-04-30 23:59:59  146.929993  134.050003  144.000000  139.000000   \n",
       "2013-05-01 23:59:59  139.889999  107.720001  139.000000  116.989998   \n",
       "2013-05-02 23:59:59  125.599998   92.281898  116.379997  105.209999   \n",
       "2013-05-03 23:59:59  108.127998   79.099998  106.250000   97.750000   \n",
       "\n",
       "                     % Returns  Log returns  \n",
       "Date                                         \n",
       "2013-04-29 23:59:59        NaN          NaN  \n",
       "2013-04-30 23:59:59  -0.038328    -0.039082  \n",
       "2013-05-01 23:59:59  -0.158345    -0.172385  \n",
       "2013-05-02 23:59:59  -0.100692    -0.106130  \n",
       "2013-05-03 23:59:59  -0.070906    -0.073545  "
      ]
     },
     "execution_count": 466,
     "metadata": {},
     "output_type": "execute_result"
    }
   ],
   "source": [
    "# The log returns is optimized for stationarity and so we create an extra column for it\n",
    "required_data['% Returns'] = required_data.Close.pct_change() # we find the percentage change using the pct_change() method\n",
    "required_data['Log returns'] = np.log(1 + required_data['% Returns']) # from the percentage returns we can easily compute log returns\n",
    "required_data.head()"
   ]
  },
  {
   "cell_type": "code",
   "execution_count": 467,
   "metadata": {
    "colab": {
     "base_uri": "https://localhost:8080/"
    },
    "id": "OjP38Gr3v2qH",
    "outputId": "89778a95-a41c-4a55-8115-f0ca0221ee8d"
   },
   "outputs": [
    {
     "name": "stderr",
     "output_type": "stream",
     "text": [
      "C:\\Users\\Jstma\\Anaconda3\\lib\\site-packages\\ipykernel_launcher.py:1: SettingWithCopyWarning: \n",
      "A value is trying to be set on a copy of a slice from a DataFrame\n",
      "\n",
      "See the caveats in the documentation: https://pandas.pydata.org/pandas-docs/stable/user_guide/indexing.html#returning-a-view-versus-a-copy\n",
      "  \"\"\"Entry point for launching an IPython kernel.\n"
     ]
    }
   ],
   "source": [
    "required_data.dropna(inplace=True) # We drop all null/NaN values so that we do not get a value error\n"
   ]
  },
  {
   "cell_type": "code",
   "execution_count": 468,
   "metadata": {
    "colab": {
     "base_uri": "https://localhost:8080/",
     "height": 629
    },
    "id": "sf3471ujrZDW",
    "outputId": "25d63bfb-7afa-49cb-acea-65adcbec7264",
    "scrolled": true
   },
   "outputs": [
    {
     "data": {
      "image/png": "[encoded data removed]",
      "text/plain": [
       "<Figure size 1152x648 with 1 Axes>"
      ]
     },
     "metadata": {
      "needs_background": "light"
     },
     "output_type": "display_data"
    }
   ],
   "source": [
    "# We make a plot of the closing price over the given timeframe to have a peek at the price behaviour prior to modeling \n",
    "plt.figure(figsize=(16,9))\n",
    "plt.plot(range(required_data.shape[0]),required_data['Close'],label='bitcoin close price')\n",
    "plt.xticks(range(0,required_data.shape[0],150),required_data.index[::150],rotation=45)\n",
    "plt.xlabel('Date',fontsize=15)\n",
    "plt.ylabel('Close price',fontsize=15)\n",
    "plt.legend(loc='best')\n",
    "plt.show()"
   ]
  },
  {
   "cell_type": "code",
   "execution_count": 469,
   "metadata": {
    "colab": {
     "base_uri": "https://localhost:8080/"
    },
    "id": "rpeaoSLSq9rc",
    "outputId": "9a2b4f68-117e-42f5-c601-4e31a0b8f903"
   },
   "outputs": [
    {
     "data": {
      "text/plain": [
       "array([[ 1.39000000e+02, -3.90823063e-02],\n",
       "       [ 1.16989998e+02, -1.72385490e-01],\n",
       "       [ 1.05209999e+02, -1.06130099e-01],\n",
       "       ...,\n",
       "       [ 4.70938530e+04, -5.39697542e-02],\n",
       "       [ 4.63397601e+04, -1.61421417e-02],\n",
       "       [ 4.61884513e+04, -3.27054722e-03]])"
      ]
     },
     "execution_count": 469,
     "metadata": {},
     "output_type": "execute_result"
    }
   ],
   "source": [
    "# For the training inputs, we will utilize two parameters, the closing price and the log returns\n",
    "x = required_data[['Close','Log returns']].values\n",
    "x"
   ]
  },
  {
   "cell_type": "code",
   "execution_count": 470,
   "metadata": {
    "colab": {
     "base_uri": "https://localhost:8080/",
     "height": 446
    },
    "id": "I6tmDampzQf8",
    "outputId": "22ec0cf2-211d-4f1b-de14-8086d50520cd"
   },
   "outputs": [],
   "source": [
    "# The log returns is a stationary parameter and we can observe its mean reversion from the plot \n",
    "# This takes a long while to plot\n",
    "# plt.figure(figsize=(12,7))\n",
    "# plt.plot(required_data['Log returns'])"
   ]
  },
  {
   "cell_type": "code",
   "execution_count": 471,
   "metadata": {
    "id": "Dut1VFwZuSiX"
   },
   "outputs": [],
   "source": [
    "x = required_data[['Close','Log returns']].values"
   ]
  },
  {
   "cell_type": "code",
   "execution_count": 472,
   "metadata": {
    "id": "18WtO5PNzWRf"
   },
   "outputs": [],
   "source": [
    "# Normalization: This helps to scale the data so that it lies within the range 0 to 1, this helps especially\n",
    "#                 when the data has a high standard deviation\n",
    "\n",
    "from sklearn.preprocessing import MinMaxScaler\n",
    "from sklearn.preprocessing import StandardScaler\n"
   ]
  },
  {
   "cell_type": "code",
   "execution_count": 473,
   "metadata": {
    "colab": {
     "base_uri": "https://localhost:8080/"
    },
    "id": "KJv3n9HG1me8",
    "outputId": "4e49764c-e2bc-4320-84a7-d74d45ef4e1b"
   },
   "outputs": [
    {
     "data": {
      "text/plain": [
       "array([[1.22789530e-03, 5.17705755e-01],\n",
       "       [8.44922917e-04, 3.55572157e-01],\n",
       "       [6.39951823e-04, 4.36157067e-01],\n",
       "       [5.10148400e-04, 4.75789397e-01],\n",
       "       [7.66797291e-04, 7.36176265e-01]])"
      ]
     },
     "execution_count": 473,
     "metadata": {},
     "output_type": "execute_result"
    }
   ],
   "source": [
    "scaler = MinMaxScaler(feature_range=(0,1)).fit(x) # we pass the relevant data to the MinMax scaler\n",
    "x_scaled = scaler.transform(x)\n",
    "x_scaled[0:5]"
   ]
  },
  {
   "cell_type": "code",
   "execution_count": 474,
   "metadata": {
    "colab": {
     "base_uri": "https://localhost:8080/"
    },
    "id": "NjOnRp0BtExL",
    "outputId": "98fe1d02-e453-4151-a892-90d5cc0b2848"
   },
   "outputs": [
    {
     "data": {
      "text/plain": [
       "[0.0012278952992176289,\n",
       " 0.0008449229166509456,\n",
       " 0.0006399518234535607,\n",
       " 0.0005101484001897834,\n",
       " 0.0007667972913573161]"
      ]
     },
     "execution_count": 474,
     "metadata": {},
     "output_type": "execute_result"
    }
   ],
   "source": [
    "y = [x[0] for x in x_scaled] # For the training outputs, we specify only the closing price as that is what we want to predict, right?\n",
    "y[:5]"
   ]
  },
  {
   "cell_type": "code",
   "execution_count": 475,
   "metadata": {
    "colab": {
     "base_uri": "https://localhost:8080/"
    },
    "id": "8IMKN9Lmp6sV",
    "outputId": "4dd0123e-575d-422c-c39d-7d8388a23ca4"
   },
   "outputs": [
    {
     "name": "stdout",
     "output_type": "stream",
     "text": [
      "2288\n"
     ]
    }
   ],
   "source": [
    "split_point = int(len(x_scaled)*0.8) # Using 80% of the data as training set, we mark out a split point at the 80% mark\n",
    "print(split_point)"
   ]
  },
  {
   "cell_type": "code",
   "execution_count": 476,
   "metadata": {
    "id": "1Y_YUj66quGh"
   },
   "outputs": [],
   "source": [
    "# Creating the training and testing sequence\n",
    "x_train = x_scaled[:split_point]\n",
    "x_test = x_scaled[split_point:]\n",
    "y_train = y[:split_point]\n",
    "y_test = y[split_point:]"
   ]
  },
  {
   "cell_type": "code",
   "execution_count": 477,
   "metadata": {
    "id": "Cq3-nHf9rfMK"
   },
   "outputs": [],
   "source": [
    "# Here we are simply verifying that the datasets have the right dimensions\n",
    "assert len(x_train) == len(y_train)\n",
    "assert len(x_test) == len(y_test)"
   ]
  },
  {
   "cell_type": "code",
   "execution_count": 478,
   "metadata": {},
   "outputs": [
    {
     "data": {
      "text/plain": [
       "array([[0.0012279 , 0.51770576],\n",
       "       [0.00084492, 0.35557216],\n",
       "       [0.00063995, 0.43615707],\n",
       "       ...,\n",
       "       [0.18182475, 0.57902189],\n",
       "       [0.18710653, 0.59984514],\n",
       "       [0.18968969, 0.58181273]])"
      ]
     },
     "execution_count": 478,
     "metadata": {},
     "output_type": "execute_result"
    }
   ],
   "source": [
    "x_train"
   ]
  },
  {
   "cell_type": "markdown",
   "metadata": {
    "id": "Mg0g5FKctHk3"
   },
   "source": [
    "Labeling the model"
   ]
  },
  {
   "cell_type": "code",
   "execution_count": 479,
   "metadata": {
    "id": "n3NselTDtTbZ"
   },
   "outputs": [],
   "source": [
    "time_step = 100 # the time step for the LSTM model\n",
    "xtrain = []\n",
    "ytrain = []\n",
    "xtest = []\n",
    "ytest = []\n",
    "\n",
    "for i in range(time_step,len(x_train)):\n",
    "  xtrain.append(x_train[i-time_step:i,:x_train.shape[1]]) # we want to use the last 3 days' data to predict the next day\n",
    "  ytrain.append(y_train[i])\n",
    "for i in range(time_step, len(y_test)):\n",
    "  xtest.append(x_test[i-time_step:i,:x_test.shape[1]])\n",
    "  ytest.append(y_test[i])"
   ]
  },
  {
   "cell_type": "code",
   "execution_count": 480,
   "metadata": {
    "colab": {
     "base_uri": "https://localhost:8080/"
    },
    "id": "xD4goNek2fbz",
    "outputId": "160506ba-5288-4b22-affd-36e0e94da43e"
   },
   "outputs": [
    {
     "name": "stdout",
     "output_type": "stream",
     "text": [
      "[[1.22789530e-03 5.17705755e-01]\n",
      " [8.44922917e-04 3.55572157e-01]\n",
      " [6.39951823e-04 4.36157067e-01]\n",
      " [5.10148400e-04 4.75789397e-01]\n",
      " [7.66797291e-04 7.36176265e-01]\n",
      " [8.26131099e-04 6.01559717e-01]\n",
      " [7.63317359e-04 5.26757454e-01]\n",
      " [7.49397367e-04 5.56545139e-01]\n",
      " [7.85345644e-04 5.87571015e-01]\n",
      " [7.69755247e-04 5.55606528e-01]\n",
      " [8.48576885e-04 6.13184694e-01]\n",
      " [8.14525219e-04 5.44759849e-01]\n",
      " [8.10297103e-04 5.62673371e-01]\n",
      " [8.62148938e-04 5.96356703e-01]\n",
      " [7.49397367e-04 4.96532501e-01]\n",
      " [7.96725183e-04 5.94555171e-01]\n",
      " [8.75720858e-04 6.12649008e-01]\n",
      " [9.49757490e-04 6.08055595e-01]\n",
      " [9.58161684e-04 5.70006862e-01]\n",
      " [9.31922541e-04 5.50297591e-01]\n",
      " [9.32096577e-04 5.65340386e-01]\n",
      " [9.47408463e-04 5.73982295e-01]\n",
      " [9.64965034e-04 5.75187082e-01]\n",
      " [1.01387617e-03 5.92529130e-01]\n",
      " [1.12697568e-03 6.26090606e-01]\n",
      " [1.10574775e-03 5.54049249e-01]\n",
      " [1.13184764e-03 5.78986127e-01]\n",
      " [1.06685891e-03 5.30721905e-01]\n",
      " [1.05389605e-03 5.58236682e-01]\n",
      " [1.11131586e-03 5.95963446e-01]\n",
      " [1.05039860e-03 5.32621241e-01]\n",
      " [1.05389605e-03 5.67137311e-01]\n",
      " [1.05911608e-03 5.68065962e-01]\n",
      " [9.37177352e-04 4.97465231e-01]\n",
      " [9.35959363e-04 5.64544272e-01]\n",
      " [9.22004589e-04 5.57233343e-01]\n",
      " [9.26006630e-04 5.67542455e-01]\n",
      " [8.62496878e-04 5.28188663e-01]\n",
      " [7.49397367e-04 4.96326370e-01]\n",
      " [6.93717660e-04 5.29823399e-01]\n",
      " [5.49298231e-04 4.68260823e-01]\n",
      " [6.59787727e-04 6.40121175e-01]\n",
      " [7.04157589e-04 5.94059762e-01]\n",
      " [6.91107645e-04 5.56835125e-01]\n",
      " [6.18897930e-04 5.17649854e-01]\n",
      " [5.48931042e-04 5.17280717e-01]\n",
      " [5.49091140e-04 5.65352595e-01]\n",
      " [5.40772305e-04 5.59411054e-01]\n",
      " [5.78878050e-04 5.91717934e-01]\n",
      " [6.78057701e-04 6.31567807e-01]\n",
      " [6.92847611e-04 5.74828785e-01]\n",
      " [7.25907495e-04 5.86403546e-01]\n",
      " [7.14597517e-04 5.58042084e-01]\n",
      " [6.93717660e-04 5.51838063e-01]\n",
      " [6.81537633e-04 5.57353659e-01]\n",
      " [5.96921817e-04 5.08989905e-01]\n",
      " [6.18027881e-04 5.79516918e-01]\n",
      " [6.18897930e-04 5.65825591e-01]\n",
      " [5.74301861e-04 5.34890884e-01]\n",
      " [4.56194721e-04 4.81000772e-01]\n",
      " [4.62194265e-04 5.69663458e-01]\n",
      " [4.90382058e-04 5.85807759e-01]\n",
      " [3.41369182e-04 4.52347327e-01]\n",
      " [3.77630619e-04 5.93692562e-01]\n",
      " [1.58321899e-04 3.82029772e-01]\n",
      " [2.10448660e-04 6.11353036e-01]\n",
      " [0.00000000e+00 3.67289481e-01]\n",
      " [3.21254502e-05 5.97621464e-01]\n",
      " [1.06663217e-04 6.37207845e-01]\n",
      " [1.40678376e-04 5.96719109e-01]\n",
      " [1.43775587e-04 5.68066841e-01]\n",
      " [3.18923264e-04 7.15234658e-01]\n",
      " [3.57551118e-04 5.95971063e-01]\n",
      " [4.37850008e-04 6.26740805e-01]\n",
      " [5.16828292e-04 6.22839886e-01]\n",
      " [4.56927240e-04 5.21806456e-01]\n",
      " [5.21461829e-04 6.11970898e-01]\n",
      " [5.04942308e-04 5.53448592e-01]\n",
      " [5.23198344e-04 5.78265695e-01]\n",
      " [3.85390971e-04 4.63288569e-01]\n",
      " [4.13056788e-04 5.86405370e-01]\n",
      " [3.64686744e-04 5.27992479e-01]\n",
      " [3.88475969e-04 5.83702539e-01]\n",
      " [4.03312872e-04 5.76614702e-01]\n",
      " [4.72016503e-04 6.16565373e-01]\n",
      " [4.53772681e-04 5.51821510e-01]\n",
      " [4.95358491e-04 5.95615801e-01]\n",
      " [4.80050056e-04 5.54147099e-01]\n",
      " [4.46917027e-04 5.40877935e-01]\n",
      " [5.45052592e-04 6.36026937e-01]\n",
      " [5.70178088e-04 5.82720458e-01]\n",
      " [6.88323593e-04 6.44225554e-01]\n",
      " [6.55263710e-04 5.43650710e-01]\n",
      " [6.18897930e-04 5.41040577e-01]\n",
      " [6.27615283e-04 5.71085773e-01]\n",
      " [6.18984882e-04 5.59454001e-01]\n",
      " [6.38803395e-04 5.78488190e-01]\n",
      " [6.57525785e-04 5.77624329e-01]\n",
      " [6.66747724e-04 5.71294351e-01]\n",
      " [6.66747724e-04 5.65240666e-01]]\n",
      "0.0006014980055206\n",
      "[[1.22789530e-03 5.17705755e-01]\n",
      " [8.44922917e-04 3.55572157e-01]\n",
      " [6.39951823e-04 4.36157067e-01]\n",
      " [5.10148400e-04 4.75789397e-01]\n",
      " [7.66797291e-04 7.36176265e-01]]\n"
     ]
    }
   ],
   "source": [
    "print(xtrain[0])\n",
    "print(ytrain[0])\n",
    "print(x_train[:5])"
   ]
  },
  {
   "cell_type": "code",
   "execution_count": 481,
   "metadata": {
    "id": "u5uh5-Ibx3Jv"
   },
   "outputs": [],
   "source": [
    "# LSTM architecture\n",
    "# Number of observations\n",
    "# time steps\n",
    "# number of Features per step \n",
    "\n",
    "# We'll need to add a temporal dimension"
   ]
  },
  {
   "cell_type": "markdown",
   "metadata": {
    "id": "yCmh2zYk1kpj"
   },
   "source": [
    " LSTM architecture\n",
    "- Number of observations\n",
    "- time steps\n",
    "- number of Features per step \n"
   ]
  },
  {
   "cell_type": "code",
   "execution_count": 482,
   "metadata": {
    "colab": {
     "base_uri": "https://localhost:8080/"
    },
    "id": "EhgRgQLw1iUi",
    "outputId": "ed0925c2-b42b-45f7-e2e0-29c01a38183b"
   },
   "outputs": [
    {
     "data": {
      "text/plain": [
       "(2188, 100, 2)"
      ]
     },
     "execution_count": 482,
     "metadata": {},
     "output_type": "execute_result"
    }
   ],
   "source": [
    "np.array(xtrain).shape"
   ]
  },
  {
   "cell_type": "code",
   "execution_count": 483,
   "metadata": {
    "id": "6-9HN7Kq2caH"
   },
   "outputs": [],
   "source": [
    "xtrain, ytrain = np.array(xtrain), np.array(ytrain)\n",
    "xtrain = np.reshape(xtrain,(xtrain.shape[0],xtrain.shape[1],xtrain.shape[2]))\n",
    "\n",
    "xtest, ytest = np.array(xtest), np.array(ytest)\n",
    "xtest = np.reshape(xtest,(xtest.shape[0],xtest.shape[1],xtest.shape[2]))"
   ]
  },
  {
   "cell_type": "code",
   "execution_count": 484,
   "metadata": {
    "colab": {
     "base_uri": "https://localhost:8080/"
    },
    "id": "qEJF2LB33Nrc",
    "outputId": "10155241-34c4-4614-9687-42cad5083378"
   },
   "outputs": [
    {
     "name": "stdout",
     "output_type": "stream",
     "text": [
      "(2188, 100, 2)\n",
      "(2188,)\n",
      "----\n",
      "(473, 100, 2)\n",
      "(473,)\n"
     ]
    }
   ],
   "source": [
    "print(xtrain.shape)\n",
    "print(ytrain.shape)\n",
    "print('----')\n",
    "print(xtest.shape)\n",
    "print(ytest.shape)"
   ]
  },
  {
   "cell_type": "code",
   "execution_count": 485,
   "metadata": {
    "id": "-usP5GUdqm39"
   },
   "outputs": [],
   "source": [
    "from keras.models import Sequential\n",
    "from keras.layers import LSTM, Dense"
   ]
  },
  {
   "cell_type": "code",
   "execution_count": 486,
   "metadata": {
    "colab": {
     "base_uri": "https://localhost:8080/"
    },
    "id": "BI4UvIhmvr7p",
    "outputId": "91140090-517e-49e9-ed91-0382f1d97cec"
   },
   "outputs": [
    {
     "name": "stdout",
     "output_type": "stream",
     "text": [
      "Epoch 1/50\n",
      "69/69 [==============================] - 3s 28ms/step - loss: 0.1888 - val_loss: 0.0537\n",
      "Epoch 2/50\n",
      "69/69 [==============================] - 2s 27ms/step - loss: 0.0033 - val_loss: 0.0578\n",
      "Epoch 3/50\n",
      "69/69 [==============================] - 2s 26ms/step - loss: 0.0029 - val_loss: 0.0547\n",
      "Epoch 4/50\n",
      "69/69 [==============================] - 2s 25ms/step - loss: 0.0027 - val_loss: 0.0502\n",
      "Epoch 5/50\n",
      "69/69 [==============================] - 2s 25ms/step - loss: 0.0025 - val_loss: 0.0453\n",
      "Epoch 6/50\n",
      "69/69 [==============================] - 2s 26ms/step - loss: 0.0023 - val_loss: 0.0428\n",
      "Epoch 7/50\n",
      "69/69 [==============================] - 2s 26ms/step - loss: 0.0020 - val_loss: 0.0372\n",
      "Epoch 8/50\n",
      "69/69 [==============================] - 2s 27ms/step - loss: 0.0018 - val_loss: 0.0331\n",
      "Epoch 9/50\n",
      "69/69 [==============================] - 2s 27ms/step - loss: 0.0016 - val_loss: 0.0300\n",
      "Epoch 10/50\n",
      "69/69 [==============================] - 2s 28ms/step - loss: 0.0014 - val_loss: 0.0266\n",
      "Epoch 11/50\n",
      "69/69 [==============================] - 2s 27ms/step - loss: 0.0012 - val_loss: 0.0232\n",
      "Epoch 12/50\n",
      "69/69 [==============================] - 2s 26ms/step - loss: 0.0010 - val_loss: 0.0200\n",
      "Epoch 13/50\n",
      "69/69 [==============================] - 2s 26ms/step - loss: 8.7386e-04 - val_loss: 0.0176\n",
      "Epoch 14/50\n",
      "69/69 [==============================] - 2s 27ms/step - loss: 7.2568e-04 - val_loss: 0.0149\n",
      "Epoch 15/50\n",
      "69/69 [==============================] - 2s 25ms/step - loss: 5.9480e-04 - val_loss: 0.0127\n",
      "Epoch 16/50\n",
      "69/69 [==============================] - 2s 26ms/step - loss: 4.8246e-04 - val_loss: 0.0105\n",
      "Epoch 17/50\n",
      "69/69 [==============================] - 2s 28ms/step - loss: 3.8656e-04 - val_loss: 0.0089\n",
      "Epoch 18/50\n",
      "69/69 [==============================] - 2s 28ms/step - loss: 3.0512e-04 - val_loss: 0.0076\n",
      "Epoch 19/50\n",
      "69/69 [==============================] - 2s 25ms/step - loss: 2.3760e-04 - val_loss: 0.0067\n",
      "Epoch 20/50\n",
      "69/69 [==============================] - 2s 27ms/step - loss: 1.8414e-04 - val_loss: 0.0056\n",
      "Epoch 21/50\n",
      "69/69 [==============================] - 2s 26ms/step - loss: 1.4090e-04 - val_loss: 0.0049\n",
      "Epoch 22/50\n",
      "69/69 [==============================] - 2s 27ms/step - loss: 1.0951e-04 - val_loss: 0.0041\n",
      "Epoch 23/50\n",
      "69/69 [==============================] - 2s 26ms/step - loss: 8.4780e-05 - val_loss: 0.0036\n",
      "Epoch 24/50\n",
      "69/69 [==============================] - 2s 31ms/step - loss: 6.8349e-05 - val_loss: 0.0032\n",
      "Epoch 25/50\n",
      "69/69 [==============================] - 2s 27ms/step - loss: 5.5713e-05 - val_loss: 0.0029\n",
      "Epoch 26/50\n",
      "69/69 [==============================] - 2s 26ms/step - loss: 4.7267e-05 - val_loss: 0.0027\n",
      "Epoch 27/50\n",
      "69/69 [==============================] - 2s 26ms/step - loss: 4.1855e-05 - val_loss: 0.0025\n",
      "Epoch 28/50\n",
      "69/69 [==============================] - 2s 24ms/step - loss: 3.8377e-05 - val_loss: 0.0023\n",
      "Epoch 29/50\n",
      "69/69 [==============================] - 2s 24ms/step - loss: 3.6022e-05 - val_loss: 0.0022\n",
      "Epoch 30/50\n",
      "69/69 [==============================] - 2s 25ms/step - loss: 3.4736e-05 - val_loss: 0.0021\n",
      "Epoch 31/50\n",
      "69/69 [==============================] - 2s 25ms/step - loss: 3.3832e-05 - val_loss: 0.0020\n",
      "Epoch 32/50\n",
      "69/69 [==============================] - 2s 24ms/step - loss: 3.3584e-05 - val_loss: 0.0020\n",
      "Epoch 33/50\n",
      "69/69 [==============================] - 2s 23ms/step - loss: 3.3350e-05 - val_loss: 0.0020\n",
      "Epoch 34/50\n",
      "69/69 [==============================] - 2s 25ms/step - loss: 3.3092e-05 - val_loss: 0.0019\n",
      "Epoch 35/50\n",
      "69/69 [==============================] - 2s 27ms/step - loss: 3.2914e-05 - val_loss: 0.0019\n",
      "Epoch 36/50\n",
      "69/69 [==============================] - 2s 31ms/step - loss: 3.3893e-05 - val_loss: 0.0019\n",
      "Epoch 37/50\n",
      "69/69 [==============================] - 2s 24ms/step - loss: 3.2496e-05 - val_loss: 0.0019\n",
      "Epoch 38/50\n",
      "69/69 [==============================] - 2s 23ms/step - loss: 3.2636e-05 - val_loss: 0.0018\n",
      "Epoch 39/50\n",
      "69/69 [==============================] - 2s 23ms/step - loss: 3.2654e-05 - val_loss: 0.0018\n",
      "Epoch 40/50\n",
      "69/69 [==============================] - 2s 24ms/step - loss: 3.3022e-05 - val_loss: 0.0018\n",
      "Epoch 41/50\n",
      "69/69 [==============================] - 2s 22ms/step - loss: 3.2041e-05 - val_loss: 0.0018\n",
      "Epoch 42/50\n",
      "69/69 [==============================] - 2s 23ms/step - loss: 3.2927e-05 - val_loss: 0.0018\n",
      "Epoch 43/50\n",
      "69/69 [==============================] - 2s 32ms/step - loss: 3.2103e-05 - val_loss: 0.0018\n",
      "Epoch 44/50\n",
      "69/69 [==============================] - 2s 23ms/step - loss: 3.1752e-05 - val_loss: 0.0018\n",
      "Epoch 45/50\n",
      "69/69 [==============================] - 2s 25ms/step - loss: 3.2403e-05 - val_loss: 0.0017\n",
      "Epoch 46/50\n",
      "69/69 [==============================] - 2s 24ms/step - loss: 3.2270e-05 - val_loss: 0.0017\n",
      "Epoch 47/50\n",
      "69/69 [==============================] - 2s 24ms/step - loss: 3.2821e-05 - val_loss: 0.0017\n",
      "Epoch 48/50\n",
      "69/69 [==============================] - 2s 22ms/step - loss: 3.1738e-05 - val_loss: 0.0017\n",
      "Epoch 49/50\n",
      "69/69 [==============================] - 2s 22ms/step - loss: 3.2886e-05 - val_loss: 0.0017\n",
      "Epoch 50/50\n",
      "69/69 [==============================] - 2s 24ms/step - loss: 3.1147e-05 - val_loss: 0.0017\n"
     ]
    },
    {
     "data": {
      "text/plain": [
       "<keras.callbacks.History at 0x23308ba17f0>"
      ]
     },
     "execution_count": 486,
     "metadata": {},
     "output_type": "execute_result"
    }
   ],
   "source": [
    "# the input shape comprises the time step and the number of obsevations\n",
    "model = Sequential()\n",
    "#1 LSTM later w/ 10 Cells, add paramter \"return_sequences=True\" when stacking more than 1 LSTM layer\n",
    "model.add(LSTM(20,activation=\"sigmoid\",input_shape=(xtrain.shape[1],xtrain.shape[2]))) \n",
    "model.add(Dense(1))\n",
    "model.compile(loss=\"mean_squared_error\",optimizer='adam')\n",
    "model.fit(\n",
    "    xtrain,ytrain,epochs=50,validation_data=(xtest,ytest),batch_size=32\n",
    ")"
   ]
  },
  {
   "cell_type": "code",
   "execution_count": 487,
   "metadata": {
    "colab": {
     "base_uri": "https://localhost:8080/"
    },
    "id": "JnvCJFTWzYPP",
    "outputId": "2a1818a4-6f31-4282-e2b4-6bcf56297442"
   },
   "outputs": [
    {
     "name": "stdout",
     "output_type": "stream",
     "text": [
      "Model: \"sequential_11\"\n",
      "_________________________________________________________________\n",
      " Layer (type)                Output Shape              Param #   \n",
      "=================================================================\n",
      " lstm_11 (LSTM)              (None, 20)                1840      \n",
      "                                                                 \n",
      " dense_11 (Dense)            (None, 1)                 21        \n",
      "                                                                 \n",
      "=================================================================\n",
      "Total params: 1,861\n",
      "Trainable params: 1,861\n",
      "Non-trainable params: 0\n",
      "_________________________________________________________________\n"
     ]
    }
   ],
   "source": [
    "model.summary() # Summary of the model parameters"
   ]
  },
  {
   "cell_type": "code",
   "execution_count": 488,
   "metadata": {
    "id": "JR5v5Olgz5Hi"
   },
   "outputs": [],
   "source": [
    "# Prediction phase\n",
    "train_predict = model.predict(xtrain) \n",
    "test_predict = model.predict(xtest)"
   ]
  },
  {
   "cell_type": "code",
   "execution_count": 489,
   "metadata": {
    "id": "lt0ocssxqV9s"
   },
   "outputs": [],
   "source": [
    "# Here we are concatenating with an array of zeros since we know that our scaler requires a 2D input\n",
    "train_predict = np.c_[train_predict,np.zeros(train_predict.shape)]\n",
    "test_predict = np.c_[test_predict,np.zeros(test_predict.shape)]"
   ]
  },
  {
   "cell_type": "code",
   "execution_count": 490,
   "metadata": {
    "id": "3YVBsxuXtSvn"
   },
   "outputs": [],
   "source": [
    "# to obtain the values on the right scale, we have to inverse transform the data\n",
    "train_predict = scaler.inverse_transform(train_predict)\n",
    "train_predict = [x[0] for x in train_predict]\n",
    "\n",
    "test_predict = scaler.inverse_transform(test_predict)\n",
    "test_predict = [x[0] for x in test_predict]"
   ]
  },
  {
   "cell_type": "code",
   "execution_count": 491,
   "metadata": {
    "colab": {
     "base_uri": "https://localhost:8080/"
    },
    "id": "Y5NE8zxmukdG",
    "outputId": "9b239cbf-8ec3-4ff5-de7d-27d4b42f73bf"
   },
   "outputs": [
    {
     "name": "stdout",
     "output_type": "stream",
     "text": [
      "[66.47585619358165, 28.947033948230974, 75.18536562343917, 63.99745695169298, 81.83867720264891]\n",
      "[8922.388114523319, 8880.775157521726, 8810.036299270432, 8664.401654668283, 8688.365223288369]\n"
     ]
    }
   ],
   "source": [
    "print(train_predict[:5])\n",
    "print(test_predict[:5])"
   ]
  },
  {
   "cell_type": "code",
   "execution_count": 492,
   "metadata": {
    "id": "sWaxLthNu-eM"
   },
   "outputs": [],
   "source": [
    "from sklearn.metrics import mean_squared_error"
   ]
  },
  {
   "cell_type": "code",
   "execution_count": 493,
   "metadata": {
    "colab": {
     "base_uri": "https://localhost:8080/"
    },
    "id": "hvvQ1L37vPGx",
    "outputId": "79f477f1-844f-40e7-81d8-91091e0d1002"
   },
   "outputs": [
    {
     "name": "stdout",
     "output_type": "stream",
     "text": [
      "Train score: 4531.983005374543\n",
      "Test score: 16064.010694912753\n"
     ]
    }
   ],
   "source": [
    "train_score = mean_squared_error([x[0][0] for x in xtrain],train_predict, squared=False)\n",
    "print('Train score: {}'.format(train_score))\n",
    "test_score = mean_squared_error([x[0][0] for x in xtest],test_predict,squared=False)\n",
    "print('Test score: {}'.format(test_score))"
   ]
  },
  {
   "cell_type": "code",
   "execution_count": 494,
   "metadata": {
    "colab": {
     "base_uri": "https://localhost:8080/"
    },
    "id": "1EJ3jp68wPaz",
    "outputId": "ddfbd526-af74-4fb5-b861-d08a6333b2c1"
   },
   "outputs": [
    {
     "name": "stdout",
     "output_type": "stream",
     "text": [
      "[8922.388114523319, 8880.775157521726, 8810.036299270432, 8664.401654668283, 8688.365223288369]\n"
     ]
    }
   ],
   "source": [
    "\n",
    "print(test_predict[:5])\n",
    "#print(scaler.inverse_transform(y_test[:5]))"
   ]
  },
  {
   "cell_type": "code",
   "execution_count": 495,
   "metadata": {
    "colab": {
     "base_uri": "https://localhost:8080/"
    },
    "id": "APWdIAhqz_0r",
    "outputId": "e666592f-ddc3-4ddc-ea6e-bbb9bb34ab48"
   },
   "outputs": [
    {
     "data": {
      "text/plain": [
       "[11805.653725299999,\n",
       " 11478.169346100001,\n",
       " 11941.9683406,\n",
       " 11966.407405,\n",
       " 11862.936759999999]"
      ]
     },
     "execution_count": 495,
     "metadata": {},
     "output_type": "execute_result"
    }
   ],
   "source": [
    "original_btc_price = [y[0] for y in x[split_point:]] # generating the original btc price sequence\n",
    "original_btc_price[:5]"
   ]
  },
  {
   "cell_type": "code",
   "execution_count": 496,
   "metadata": {
    "colab": {
     "base_uri": "https://localhost:8080/",
     "height": 621
    },
    "id": "NoqvmruprRrZ",
    "outputId": "68a55b8f-c6a0-418e-e04c-b35d4cc044fe"
   },
   "outputs": [
    {
     "data": {
      "image/png": "[encoded data removed]",
      "text/plain": [
       "<Figure size 792x576 with 1 Axes>"
      ]
     },
     "metadata": {
      "needs_background": "light"
     },
     "output_type": "display_data"
    }
   ],
   "source": [
    "# We now try to visualize our prediction along with the original data in order to see how well it performed!\n",
    "plt.figure(figsize=(11,8))\n",
    "#plt.plot(range(required_data.shape[0]),required_data['Close'],label='Trained Price')\n",
    "plt.plot(original_btc_price,color='blue',label='Actual bitcoin price')\n",
    "plt.plot(test_predict,color='red',label='Predicted Bitcoin price')\n",
    "plt.title('Bitcoin price prediction using LSTM')\n",
    "plt.xlabel('Daily timeframe')\n",
    "plt.ylabel('Price')\n",
    "plt.legend()\n",
    "plt.show()"
   ]
  }
 ],
 "metadata": {
  "colab": {
   "collapsed_sections": [],
   "name": "BTC market direction prediction using LSTM",
   "provenance": []
  },
  "kernelspec": {
   "display_name": "Python 3",
   "language": "python",
   "name": "python3"
  },
  "language_info": {
   "codemirror_mode": {
    "name": "ipython",
    "version": 3
   },
   "file_extension": ".py",
   "mimetype": "text/x-python",
   "name": "python",
   "nbconvert_exporter": "python",
   "pygments_lexer": "ipython3",
   "version": "3.7.3"
  }
 },
 "nbformat": 4,
 "nbformat_minor": 1
}
